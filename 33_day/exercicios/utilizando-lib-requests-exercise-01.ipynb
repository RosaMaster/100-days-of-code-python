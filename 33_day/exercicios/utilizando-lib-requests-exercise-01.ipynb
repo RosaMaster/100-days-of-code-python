{
 "cells": [
  {
   "cell_type": "markdown",
   "id": "c4e16bc9",
   "metadata": {},
   "source": [
    "### Exercicio 01\n",
    "\n",
    "- Instalando lib `requests`\n",
    "\n",
    "~~~Bash\n",
    "pip install requests\n",
    "~~~\n",
    "\n",
    "- Importando lib `requests`\n",
    "\n",
    "~~~Python\n",
    "import requests\n",
    "~~~\n",
    "\n",
    "#### Documentação\n",
    "\n",
    "| DOCUMENTAÇÃO E LINK                                                                                      |\n",
    "| -------------------------------------------------------------------------------------------------------- |\n",
    "| [International Space Station Current Location](http://open-notify.org/Open-Notify-API/ISS-Location-Now/) |\n",
    "| [requests lib](https://pypi.org/project/requests/)                                                       |"
   ]
  },
  {
   "cell_type": "code",
   "execution_count": 3,
   "id": "8047b2a8",
   "metadata": {},
   "outputs": [
    {
     "name": "stdout",
     "output_type": "stream",
     "text": [
      "{'message': 'success', 'iss_position': {'latitude': '-45.0220', 'longitude': '169.4398'}, 'timestamp': 1747271122}\n",
      "-45.0220\n",
      "169.4398\n",
      "200\n",
      "Posição ISS: ('169.4398', '-45.0220')\n"
     ]
    }
   ],
   "source": [
    "import requests\n",
    "\n",
    "response = requests.get(url=\"http://api.open-notify.org/iss-now.json\")\n",
    "\n",
    "response.raise_for_status()\n",
    "\n",
    "data = response.json()\n",
    "latitude = response.json()[\"iss_position\"][\"latitude\"]\n",
    "longitude = response.json()[\"iss_position\"][\"longitude\"]\n",
    "\n",
    "iss_position = (longitude, latitude)\n",
    "\n",
    "print(data)\n",
    "print(latitude)\n",
    "print(longitude)\n",
    "print(response.status_code)\n",
    "print(f\"Posição ISS: {iss_position}\")"
   ]
  }
 ],
 "metadata": {
  "kernelspec": {
   "display_name": "venv",
   "language": "python",
   "name": "python3"
  },
  "language_info": {
   "codemirror_mode": {
    "name": "ipython",
    "version": 3
   },
   "file_extension": ".py",
   "mimetype": "text/x-python",
   "name": "python",
   "nbconvert_exporter": "python",
   "pygments_lexer": "ipython3",
   "version": "3.12.2"
  }
 },
 "nbformat": 4,
 "nbformat_minor": 5
}
