{
 "cells": [
  {
   "cell_type": "markdown",
   "id": "c4e16bc9",
   "metadata": {},
   "source": [
    "### Exercicio 03\n",
    "\n",
    "- Instalando lib `requests`\n",
    "\n",
    "~~~Bash\n",
    "pip install requests\n",
    "~~~\n",
    "\n",
    "- Importando lib `requests`\n",
    "\n",
    "~~~Python\n",
    "import requests\n",
    "~~~\n",
    "\n",
    "#### Documentação\n",
    "\n",
    "| DOCUMENTAÇÃO E LINK                                  |\n",
    "| ---------------------------------------------------- |\n",
    "| [API Sunrise Sunset](https://sunrise-sunset.org/api) |\n",
    "| [requests lib](https://pypi.org/project/requests/)   |"
   ]
  },
  {
   "cell_type": "code",
   "execution_count": 10,
   "id": "8047b2a8",
   "metadata": {},
   "outputs": [
    {
     "name": "stdout",
     "output_type": "stream",
     "text": [
      "<class 'dict'>\n",
      "Sunrise: {'results': {'sunrise': '2025-05-15T05:08:31+00:00', 'sunset': '2025-05-15T19:19:35+00:00', 'solar_noon': '2025-05-15T12:14:03+00:00', 'day_length': 51064, 'civil_twilight_begin': '2025-05-15T04:41:03+00:00', 'civil_twilight_end': '2025-05-15T19:47:02+00:00', 'nautical_twilight_begin': '2025-05-15T04:05:43+00:00', 'nautical_twilight_end': '2025-05-15T20:22:22+00:00', 'astronomical_twilight_begin': '2025-05-15T03:27:28+00:00', 'astronomical_twilight_end': '2025-05-15T21:00:38+00:00'}, 'status': 'OK', 'tzid': 'UTC'}\n",
      "Sunrise: {\n",
      "    \"results\": {\n",
      "        \"sunrise\": \"2025-05-15T05:08:31+00:00\",\n",
      "        \"sunset\": \"2025-05-15T19:19:35+00:00\",\n",
      "        \"solar_noon\": \"2025-05-15T12:14:03+00:00\",\n",
      "        \"day_length\": 51064,\n",
      "        \"civil_twilight_begin\": \"2025-05-15T04:41:03+00:00\",\n",
      "        \"civil_twilight_end\": \"2025-05-15T19:47:02+00:00\",\n",
      "        \"nautical_twilight_begin\": \"2025-05-15T04:05:43+00:00\",\n",
      "        \"nautical_twilight_end\": \"2025-05-15T20:22:22+00:00\",\n",
      "        \"astronomical_twilight_begin\": \"2025-05-15T03:27:28+00:00\",\n",
      "        \"astronomical_twilight_end\": \"2025-05-15T21:00:38+00:00\"\n",
      "    },\n",
      "    \"status\": \"OK\",\n",
      "    \"tzid\": \"UTC\"\n",
      "}\n",
      "Status code: 200\n",
      "Status: OK\n",
      "Solar noon: 2025-05-15T12:14:03+00:00\n"
     ]
    }
   ],
   "source": [
    "import requests\n",
    "import json\n",
    "\n",
    "parameters = {\n",
    "    \"lat\": 36.7201600,\n",
    "    \"lng\": -4.4203400,\n",
    "    \"formatted\": 0          # 0 = 24-hour format, 1 = 12-hour format\n",
    "}\n",
    "\n",
    "response = requests.get(\"https://api.sunrise-sunset.org/json\", params=parameters)\n",
    "response.raise_for_status()\n",
    "data = response.json()\n",
    "\n",
    "print(type(data))\n",
    "\n",
    "print(\"Sunrise:\", data)\n",
    "\n",
    "data = json.dumps(data, indent=4)\n",
    "\n",
    "print(\"Sunrise:\", data)\n",
    "\n",
    "status_code = response.status_code\n",
    "print(\"Status code:\", status_code)\n",
    "status = response.json()['status']\n",
    "print(\"Status:\", status)\n",
    "solar_noon = response.json()['results']['solar_noon']\n",
    "print(\"Solar noon:\", solar_noon)\n",
    "\n",
    "\n"
   ]
  }
 ],
 "metadata": {
  "kernelspec": {
   "display_name": "venv",
   "language": "python",
   "name": "python3"
  },
  "language_info": {
   "codemirror_mode": {
    "name": "ipython",
    "version": 3
   },
   "file_extension": ".py",
   "mimetype": "text/x-python",
   "name": "python",
   "nbconvert_exporter": "python",
   "pygments_lexer": "ipython3",
   "version": "3.12.2"
  }
 },
 "nbformat": 4,
 "nbformat_minor": 5
}
