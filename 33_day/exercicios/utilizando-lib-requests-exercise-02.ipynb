{
 "cells": [
  {
   "cell_type": "markdown",
   "id": "c4e16bc9",
   "metadata": {},
   "source": [
    "### Exercicio 02\n",
    "\n",
    "- Instalando lib `requests`\n",
    "\n",
    "~~~Bash\n",
    "pip install requests\n",
    "~~~\n",
    "\n",
    "- Importando lib `requests`\n",
    "\n",
    "~~~Python\n",
    "import requests\n",
    "~~~\n",
    "\n",
    "#### Documentação\n",
    "\n",
    "| DOCUMENTAÇÃO E LINK                                |\n",
    "| -------------------------------------------------- |\n",
    "| [API Kanye Rest](https://api.kanye.rest)           |\n",
    "| [requests lib](https://pypi.org/project/requests/) |"
   ]
  },
  {
   "cell_type": "code",
   "execution_count": 4,
   "id": "8047b2a8",
   "metadata": {},
   "outputs": [
    {
     "name": "stdout",
     "output_type": "stream",
     "text": [
      "Kanye West quotes:\n",
      "1. We have to evolve\n",
      "2. Tweeting is legal and also therapeutic\n",
      "3. My dad got me a drone for Christmas\n"
     ]
    }
   ],
   "source": [
    "import requests\n",
    "\n",
    "lista = []\n",
    "\n",
    "for i in range(1, 4):\n",
    "    response = requests.get(\"https://api.kanye.rest\")\n",
    "    response.raise_for_status()\n",
    "    data = response.json()\n",
    "    quote = data[\"quote\"]\n",
    "    lista.append(quote)\n",
    "\n",
    "print(\"Kanye West quotes:\")\n",
    "\n",
    "for i in range(3):\n",
    "    print(f\"{i + 1}. {lista[i]}\")\n"
   ]
  }
 ],
 "metadata": {
  "kernelspec": {
   "display_name": "venv",
   "language": "python",
   "name": "python3"
  },
  "language_info": {
   "codemirror_mode": {
    "name": "ipython",
    "version": 3
   },
   "file_extension": ".py",
   "mimetype": "text/x-python",
   "name": "python",
   "nbconvert_exporter": "python",
   "pygments_lexer": "ipython3",
   "version": "3.12.2"
  }
 },
 "nbformat": 4,
 "nbformat_minor": 5
}
