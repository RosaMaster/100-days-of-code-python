{
 "cells": [
  {
   "cell_type": "code",
   "execution_count": 2,
   "metadata": {},
   "outputs": [
    {
     "name": "stdout",
     "output_type": "stream",
     "text": [
      "Pay a fine.\n",
      "You may pass\n"
     ]
    }
   ],
   "source": [
    "age: int\n",
    "name: str\n",
    "height: float\n",
    "is_human: bool\n",
    "\n",
    "\n",
    "def police_check(age: int) -> bool:\n",
    "    if age > 18:\n",
    "        can_drive = True\n",
    "    else:\n",
    "        can_drive = False\n",
    "    return can_drive\n",
    "\n",
    "\n",
    "if police_check(10):\n",
    "    print(\"You may pass\")\n",
    "else:\n",
    "    print(\"Pay a fine.\")\n",
    "\n",
    "\n",
    "if police_check(19):\n",
    "    print(\"You may pass\")\n",
    "else:\n",
    "    print(\"Pay a fine.\")"
   ]
  }
 ],
 "metadata": {
  "kernelspec": {
   "display_name": "venv",
   "language": "python",
   "name": "python3"
  },
  "language_info": {
   "codemirror_mode": {
    "name": "ipython",
    "version": 3
   },
   "file_extension": ".py",
   "mimetype": "text/x-python",
   "name": "python",
   "nbconvert_exporter": "python",
   "pygments_lexer": "ipython3",
   "version": "3.12.2"
  }
 },
 "nbformat": 4,
 "nbformat_minor": 2
}
